{
 "cells": [
  {
   "cell_type": "code",
   "execution_count": 1,
   "metadata": {},
   "outputs": [],
   "source": [
    "import pandas as pd\n",
    "import numpy as np\n",
    "import matplotlib.pyplot as plt\n",
    "from datetime import datetime\n",
    "%matplotlib inline "
   ]
  },
  {
   "cell_type": "code",
   "execution_count": 2,
   "metadata": {},
   "outputs": [
    {
     "name": "stdout",
     "output_type": "stream",
     "text": [
      "<class 'pandas.core.frame.DataFrame'>\n",
      "RangeIndex: 6603 entries, 0 to 6602\n",
      "Data columns (total 5 columns):\n",
      "CaseID       6603 non-null int64\n",
      "Activity     6603 non-null object\n",
      "EventType    6603 non-null object\n",
      "Resource     6603 non-null object\n",
      "Timestamp    6603 non-null datetime64[ns]\n",
      "dtypes: datetime64[ns](1), int64(1), object(3)\n",
      "memory usage: 258.1+ KB\n"
     ]
    }
   ],
   "source": [
    "dateCols = ['Timestamp']\n",
    "df = pd.read_csv(\"log.csv\", parse_dates=dateCols)\n",
    "df.info()"
   ]
  },
  {
   "cell_type": "code",
   "execution_count": 3,
   "metadata": {},
   "outputs": [
    {
     "data": {
      "text/html": [
       "<div>\n",
       "<style scoped>\n",
       "    .dataframe tbody tr th:only-of-type {\n",
       "        vertical-align: middle;\n",
       "    }\n",
       "\n",
       "    .dataframe tbody tr th {\n",
       "        vertical-align: top;\n",
       "    }\n",
       "\n",
       "    .dataframe thead th {\n",
       "        text-align: right;\n",
       "    }\n",
       "</style>\n",
       "<table border=\"1\" class=\"dataframe\">\n",
       "  <thead>\n",
       "    <tr style=\"text-align: right;\">\n",
       "      <th></th>\n",
       "      <th>CaseID</th>\n",
       "      <th>Activity</th>\n",
       "      <th>EventType</th>\n",
       "      <th>Resource</th>\n",
       "      <th>Timestamp</th>\n",
       "    </tr>\n",
       "  </thead>\n",
       "  <tbody>\n",
       "    <tr>\n",
       "      <td>4230</td>\n",
       "      <td>49</td>\n",
       "      <td>Activity 1</td>\n",
       "      <td>assign</td>\n",
       "      <td>Role #1</td>\n",
       "      <td>2020-01-14 03:37:36.348</td>\n",
       "    </tr>\n",
       "    <tr>\n",
       "      <td>2877</td>\n",
       "      <td>50</td>\n",
       "      <td>Activity 1</td>\n",
       "      <td>assign</td>\n",
       "      <td>Role #1</td>\n",
       "      <td>2020-01-14 03:53:50.271</td>\n",
       "    </tr>\n",
       "    <tr>\n",
       "      <td>2925</td>\n",
       "      <td>51</td>\n",
       "      <td>Activity 1</td>\n",
       "      <td>assign</td>\n",
       "      <td>Role #1</td>\n",
       "      <td>2020-01-14 03:57:29.276</td>\n",
       "    </tr>\n",
       "    <tr>\n",
       "      <td>3867</td>\n",
       "      <td>52</td>\n",
       "      <td>Activity 1</td>\n",
       "      <td>assign</td>\n",
       "      <td>Role #1</td>\n",
       "      <td>2020-01-14 03:57:55.117</td>\n",
       "    </tr>\n",
       "    <tr>\n",
       "      <td>3849</td>\n",
       "      <td>53</td>\n",
       "      <td>Activity 1</td>\n",
       "      <td>assign</td>\n",
       "      <td>Role #1</td>\n",
       "      <td>2020-01-14 04:06:29.331</td>\n",
       "    </tr>\n",
       "    <tr>\n",
       "      <td>3882</td>\n",
       "      <td>54</td>\n",
       "      <td>Activity 1</td>\n",
       "      <td>assign</td>\n",
       "      <td>Role #1</td>\n",
       "      <td>2020-01-14 04:24:50.828</td>\n",
       "    </tr>\n",
       "    <tr>\n",
       "      <td>3783</td>\n",
       "      <td>55</td>\n",
       "      <td>Activity 1</td>\n",
       "      <td>assign</td>\n",
       "      <td>Role #1</td>\n",
       "      <td>2020-01-14 04:31:22.802</td>\n",
       "    </tr>\n",
       "    <tr>\n",
       "      <td>3717</td>\n",
       "      <td>56</td>\n",
       "      <td>Activity 1</td>\n",
       "      <td>assign</td>\n",
       "      <td>Role #1</td>\n",
       "      <td>2020-01-14 04:34:20.811</td>\n",
       "    </tr>\n",
       "    <tr>\n",
       "      <td>3684</td>\n",
       "      <td>57</td>\n",
       "      <td>Activity 1</td>\n",
       "      <td>assign</td>\n",
       "      <td>Role #1</td>\n",
       "      <td>2020-01-14 04:36:49.615</td>\n",
       "    </tr>\n",
       "    <tr>\n",
       "      <td>3126</td>\n",
       "      <td>58</td>\n",
       "      <td>Activity 1</td>\n",
       "      <td>assign</td>\n",
       "      <td>Role #1</td>\n",
       "      <td>2020-01-14 04:49:42.787</td>\n",
       "    </tr>\n",
       "  </tbody>\n",
       "</table>\n",
       "</div>"
      ],
      "text/plain": [
       "      CaseID    Activity EventType Resource               Timestamp\n",
       "4230      49  Activity 1    assign  Role #1 2020-01-14 03:37:36.348\n",
       "2877      50  Activity 1    assign  Role #1 2020-01-14 03:53:50.271\n",
       "2925      51  Activity 1    assign  Role #1 2020-01-14 03:57:29.276\n",
       "3867      52  Activity 1    assign  Role #1 2020-01-14 03:57:55.117\n",
       "3849      53  Activity 1    assign  Role #1 2020-01-14 04:06:29.331\n",
       "3882      54  Activity 1    assign  Role #1 2020-01-14 04:24:50.828\n",
       "3783      55  Activity 1    assign  Role #1 2020-01-14 04:31:22.802\n",
       "3717      56  Activity 1    assign  Role #1 2020-01-14 04:34:20.811\n",
       "3684      57  Activity 1    assign  Role #1 2020-01-14 04:36:49.615\n",
       "3126      58  Activity 1    assign  Role #1 2020-01-14 04:49:42.787"
      ]
     },
     "execution_count": 3,
     "metadata": {},
     "output_type": "execute_result"
    }
   ],
   "source": [
    "df.sort_values(by=['Timestamp']).head(10)"
   ]
  },
  {
   "cell_type": "code",
   "execution_count": 4,
   "metadata": {},
   "outputs": [
    {
     "data": {
      "text/html": [
       "<div>\n",
       "<style scoped>\n",
       "    .dataframe tbody tr th:only-of-type {\n",
       "        vertical-align: middle;\n",
       "    }\n",
       "\n",
       "    .dataframe tbody tr th {\n",
       "        vertical-align: top;\n",
       "    }\n",
       "\n",
       "    .dataframe thead th {\n",
       "        text-align: right;\n",
       "    }\n",
       "</style>\n",
       "<table border=\"1\" class=\"dataframe\">\n",
       "  <thead>\n",
       "    <tr style=\"text-align: right;\">\n",
       "      <th></th>\n",
       "      <th>CaseID</th>\n",
       "      <th>Activity</th>\n",
       "      <th>EventType</th>\n",
       "      <th>Resource</th>\n",
       "      <th>Timestamp</th>\n",
       "    </tr>\n",
       "  </thead>\n",
       "  <tbody>\n",
       "    <tr>\n",
       "      <td>5699</td>\n",
       "      <td>438</td>\n",
       "      <td>Activity 8</td>\n",
       "      <td>complete</td>\n",
       "      <td>Role #4</td>\n",
       "      <td>2020-06-05 05:52:36.958</td>\n",
       "    </tr>\n",
       "    <tr>\n",
       "      <td>6161</td>\n",
       "      <td>434</td>\n",
       "      <td>Activity 8</td>\n",
       "      <td>complete</td>\n",
       "      <td>Role #4</td>\n",
       "      <td>2020-06-05 06:09:35.564</td>\n",
       "    </tr>\n",
       "    <tr>\n",
       "      <td>6046</td>\n",
       "      <td>427</td>\n",
       "      <td>Activity 8</td>\n",
       "      <td>start</td>\n",
       "      <td>Role #4</td>\n",
       "      <td>2020-06-05 06:24:14.008</td>\n",
       "    </tr>\n",
       "    <tr>\n",
       "      <td>1372</td>\n",
       "      <td>439</td>\n",
       "      <td>Activity 8</td>\n",
       "      <td>start</td>\n",
       "      <td>Role #4</td>\n",
       "      <td>2020-06-05 07:03:53.473</td>\n",
       "    </tr>\n",
       "    <tr>\n",
       "      <td>6047</td>\n",
       "      <td>427</td>\n",
       "      <td>Activity 8</td>\n",
       "      <td>complete</td>\n",
       "      <td>Role #4</td>\n",
       "      <td>2020-06-05 07:03:53.473</td>\n",
       "    </tr>\n",
       "    <tr>\n",
       "      <td>1373</td>\n",
       "      <td>439</td>\n",
       "      <td>Activity 8</td>\n",
       "      <td>complete</td>\n",
       "      <td>Role #4</td>\n",
       "      <td>2020-06-05 07:40:36.174</td>\n",
       "    </tr>\n",
       "    <tr>\n",
       "      <td>5263</td>\n",
       "      <td>445</td>\n",
       "      <td>Activity 8</td>\n",
       "      <td>start</td>\n",
       "      <td>Role #4</td>\n",
       "      <td>2020-06-05 08:37:25.468</td>\n",
       "    </tr>\n",
       "    <tr>\n",
       "      <td>844</td>\n",
       "      <td>446</td>\n",
       "      <td>Activity 8</td>\n",
       "      <td>start</td>\n",
       "      <td>Role #4</td>\n",
       "      <td>2020-06-05 08:42:00.463</td>\n",
       "    </tr>\n",
       "    <tr>\n",
       "      <td>845</td>\n",
       "      <td>446</td>\n",
       "      <td>Activity 8</td>\n",
       "      <td>complete</td>\n",
       "      <td>Role #4</td>\n",
       "      <td>2020-06-09 05:11:58.416</td>\n",
       "    </tr>\n",
       "    <tr>\n",
       "      <td>5264</td>\n",
       "      <td>445</td>\n",
       "      <td>Activity 8</td>\n",
       "      <td>complete</td>\n",
       "      <td>Role #4</td>\n",
       "      <td>2020-06-09 05:20:47.559</td>\n",
       "    </tr>\n",
       "  </tbody>\n",
       "</table>\n",
       "</div>"
      ],
      "text/plain": [
       "      CaseID    Activity EventType Resource               Timestamp\n",
       "5699     438  Activity 8  complete  Role #4 2020-06-05 05:52:36.958\n",
       "6161     434  Activity 8  complete  Role #4 2020-06-05 06:09:35.564\n",
       "6046     427  Activity 8     start  Role #4 2020-06-05 06:24:14.008\n",
       "1372     439  Activity 8     start  Role #4 2020-06-05 07:03:53.473\n",
       "6047     427  Activity 8  complete  Role #4 2020-06-05 07:03:53.473\n",
       "1373     439  Activity 8  complete  Role #4 2020-06-05 07:40:36.174\n",
       "5263     445  Activity 8     start  Role #4 2020-06-05 08:37:25.468\n",
       "844      446  Activity 8     start  Role #4 2020-06-05 08:42:00.463\n",
       "845      446  Activity 8  complete  Role #4 2020-06-09 05:11:58.416\n",
       "5264     445  Activity 8  complete  Role #4 2020-06-09 05:20:47.559"
      ]
     },
     "execution_count": 4,
     "metadata": {},
     "output_type": "execute_result"
    }
   ],
   "source": [
    "df.sort_values(by=['Timestamp']).tail(10)"
   ]
  },
  {
   "cell_type": "code",
   "execution_count": 7,
   "metadata": {},
   "outputs": [],
   "source": [
    "day_counter_map = { (\"Role #1\",\"Monday\"):0,\n",
    "                    (\"Role #1\",\"Tuesday\"):0,\n",
    "                    (\"Role #1\",\"Wednesday\"):0,\n",
    "                    (\"Role #1\",\"Thursday\"):0,\n",
    "                    (\"Role #1\",\"Friday\"):0,\n",
    "                    (\"Role #1\",\"Saturday\"):0,\n",
    "                    (\"Role #1\",\"Sunday\"):0,\n",
    "                    (\"Role #2\",\"Monday\"):0,\n",
    "                    (\"Role #2\",\"Tuesday\"):0,\n",
    "                    (\"Role #2\",\"Wednesday\"):0,\n",
    "                    (\"Role #2\",\"Thursday\"):0,\n",
    "                    (\"Role #2\",\"Friday\"):0,\n",
    "                    (\"Role #2\",\"Saturday\"):0,\n",
    "                    (\"Role #2\",\"Sunday\"):0,\n",
    "                    (\"Role #3\",\"Monday\"):0,\n",
    "                    (\"Role #3\",\"Tuesday\"):0,\n",
    "                    (\"Role #3\",\"Wednesday\"):0,\n",
    "                    (\"Role #3\",\"Thursday\"):0,\n",
    "                    (\"Role #3\",\"Friday\"):0,\n",
    "                    (\"Role #3\",\"Saturday\"):0,\n",
    "                    (\"Role #3\",\"Sunday\"):0,\n",
    "                    (\"Role #4\",\"Monday\"):0,\n",
    "                    (\"Role #4\",\"Tuesday\"):0,\n",
    "                    (\"Role #4\",\"Wednesday\"):0,\n",
    "                    (\"Role #4\",\"Thursday\"):0,\n",
    "                    (\"Role #4\",\"Friday\"):0,\n",
    "                    (\"Role #4\",\"Saturday\"):0,\n",
    "                    (\"Role #4\",\"Sunday\"):0,\n",
    "                                             }"
   ]
  },
  {
   "cell_type": "code",
   "execution_count": 32,
   "metadata": {},
   "outputs": [],
   "source": [
    "for index, row in df.iterrows():\n",
    "    role = row['Resource']\n",
    "    day = row['Timestamp'].strftime(\"%A\")\n",
    "    tup = (role,day)\n",
    "    day_counter_map[tup] += 1  "
   ]
  },
  {
   "cell_type": "code",
   "execution_count": 33,
   "metadata": {},
   "outputs": [
    {
     "data": {
      "text/plain": [
       "{('Role #1', 'Monday'): 539,\n",
       " ('Role #1', 'Tuesday'): 579,\n",
       " ('Role #1', 'Wednesday'): 580,\n",
       " ('Role #1', 'Thursday'): 604,\n",
       " ('Role #1', 'Friday'): 98,\n",
       " ('Role #1', 'Saturday'): 0,\n",
       " ('Role #1', 'Sunday'): 0,\n",
       " ('Role #2', 'Monday'): 369,\n",
       " ('Role #2', 'Tuesday'): 558,\n",
       " ('Role #2', 'Wednesday'): 360,\n",
       " ('Role #2', 'Thursday'): 522,\n",
       " ('Role #2', 'Friday'): 0,\n",
       " ('Role #2', 'Saturday'): 0,\n",
       " ('Role #2', 'Sunday'): 0,\n",
       " ('Role #3', 'Monday'): 96,\n",
       " ('Role #3', 'Tuesday'): 48,\n",
       " ('Role #3', 'Wednesday'): 834,\n",
       " ('Role #3', 'Thursday'): 216,\n",
       " ('Role #3', 'Friday'): 0,\n",
       " ('Role #3', 'Saturday'): 0,\n",
       " ('Role #3', 'Sunday'): 0,\n",
       " ('Role #4', 'Monday'): 41,\n",
       " ('Role #4', 'Tuesday'): 266,\n",
       " ('Role #4', 'Wednesday'): 405,\n",
       " ('Role #4', 'Thursday'): 289,\n",
       " ('Role #4', 'Friday'): 199,\n",
       " ('Role #4', 'Saturday'): 0,\n",
       " ('Role #4', 'Sunday'): 0,\n",
       " 'tup': 1}"
      ]
     },
     "execution_count": 33,
     "metadata": {},
     "output_type": "execute_result"
    }
   ],
   "source": [
    "day_counter_map"
   ]
  },
  {
   "cell_type": "code",
   "execution_count": 41,
   "metadata": {},
   "outputs": [
    {
     "data": {
      "text/plain": [
       "62"
      ]
     },
     "execution_count": 41,
     "metadata": {},
     "output_type": "execute_result"
    }
   ],
   "source": [
    "max_value = max(day_counter_map.values())\n",
    "# min_threshold represents the labour of 7.5% on the max day, any less, should be considered an anomaly\n",
    "min_threshold = int(max_value * .075)\n",
    "min_threshold"
   ]
  },
  {
   "cell_type": "code",
   "execution_count": 45,
   "metadata": {},
   "outputs": [
    {
     "data": {
      "text/plain": [
       "{('Role #1', 'Monday'): 539,\n",
       " ('Role #1', 'Tuesday'): 579,\n",
       " ('Role #1', 'Wednesday'): 580,\n",
       " ('Role #1', 'Thursday'): 604,\n",
       " ('Role #1', 'Friday'): 98,\n",
       " ('Role #2', 'Monday'): 369,\n",
       " ('Role #2', 'Tuesday'): 558,\n",
       " ('Role #2', 'Wednesday'): 360,\n",
       " ('Role #2', 'Thursday'): 522,\n",
       " ('Role #3', 'Monday'): 96,\n",
       " ('Role #3', 'Wednesday'): 834,\n",
       " ('Role #3', 'Thursday'): 216,\n",
       " ('Role #4', 'Tuesday'): 266,\n",
       " ('Role #4', 'Wednesday'): 405,\n",
       " ('Role #4', 'Thursday'): 289,\n",
       " ('Role #4', 'Friday'): 199}"
      ]
     },
     "execution_count": 45,
     "metadata": {},
     "output_type": "execute_result"
    }
   ],
   "source": [
    "non_working_days = []\n",
    "for role_day, quantity in day_counter_map.items():\n",
    "    if quantity <= min_threshold:\n",
    "        non_working_days.append(role_day)\n",
    "for day in non_working_days:\n",
    "    day_counter_map.pop(day, None)\n",
    "day_counter_map"
   ]
  },
  {
   "cell_type": "code",
   "execution_count": 56,
   "metadata": {},
   "outputs": [
    {
     "data": {
      "text/plain": [
       "['Monday',\n",
       " 'Tuesday',\n",
       " 'Wednesday',\n",
       " 'Thursday',\n",
       " 'Friday',\n",
       " 'Monday',\n",
       " 'Tuesday',\n",
       " 'Wednesday',\n",
       " 'Thursday',\n",
       " 'Monday',\n",
       " 'Wednesday',\n",
       " 'Thursday',\n",
       " 'Tuesday',\n",
       " 'Wednesday',\n",
       " 'Thursday',\n",
       " 'Friday']"
      ]
     },
     "execution_count": 56,
     "metadata": {},
     "output_type": "execute_result"
    }
   ],
   "source": [
    "days_worked = list(day_counter_map.values())\n",
    "tuples = list(day_counter_map.keys())\n",
    "roles = []\n",
    "day_of_week = []\n",
    "for tup in tuples:\n",
    "    role, day = tup\n",
    "    roles.append(role)\n",
    "    day_of_week.append(day)\n",
    "day_of_week"
   ]
  },
  {
   "cell_type": "code",
   "execution_count": 59,
   "metadata": {},
   "outputs": [],
   "source": [
    "new_df = pd.DataFrame()"
   ]
  }
 ],
 "metadata": {
  "kernelspec": {
   "display_name": "Python 3",
   "language": "python",
   "name": "python3"
  },
  "language_info": {
   "codemirror_mode": {
    "name": "ipython",
    "version": 3
   },
   "file_extension": ".py",
   "mimetype": "text/x-python",
   "name": "python",
   "nbconvert_exporter": "python",
   "pygments_lexer": "ipython3",
   "version": "3.7.4"
  }
 },
 "nbformat": 4,
 "nbformat_minor": 2
}
