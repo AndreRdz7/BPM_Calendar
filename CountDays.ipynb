{
 "cells": [
  {
   "cell_type": "markdown",
   "metadata": {},
   "source": [
    "Imports"
   ]
  },
  {
   "cell_type": "code",
   "execution_count": 1,
   "metadata": {},
   "outputs": [],
   "source": [
    "import pandas as pd\n",
    "import numpy as np\n",
    "from datetime import datetime,time"
   ]
  },
  {
   "cell_type": "markdown",
   "metadata": {},
   "source": [
    "Helper function"
   ]
  },
  {
   "cell_type": "code",
   "execution_count": 2,
   "metadata": {},
   "outputs": [],
   "source": [
    "# values must be sent in order: hour, minute?, second?\n",
    "def int_to_hour(values,typeofvalues):\n",
    "    if len(values) == len(typeofvalues):\n",
    "        if 'hour' in typeofvalues:\n",
    "            if 'minute'in typeofvalues:\n",
    "                if 'second' in typeofvalues:\n",
    "                    #pending\n",
    "                    hour = pd.to_datetime(values[0],format=\"%H:%M:%S\")\n",
    "                else:\n",
    "                    #pending\n",
    "                    hour = pd.to_datetime(values[0],format=\"%H:%M\")\n",
    "            else:\n",
    "                hour = pd.to_datetime(values[0],format=\"%H\")\n",
    "    return hour.strftime(\"%H:%M:%S\")"
   ]
  },
  {
   "cell_type": "markdown",
   "metadata": {},
   "source": [
    "Main program"
   ]
  },
  {
   "cell_type": "code",
   "execution_count": 3,
   "metadata": {},
   "outputs": [
    {
     "data": {
      "text/plain": [
       "[[('Friday', '02:00:00-10:00:00'),\n",
       "  ('Monday', '02:00:00-10:00:00'),\n",
       "  ('Thursday', '02:00:00-10:00:00'),\n",
       "  ('Tuesday', '02:00:00-10:00:00'),\n",
       "  ('Wednesday', '02:00:00-10:00:00'),\n",
       "  'Sachbearbeiter_#0'],\n",
       " [('Friday', '02:00:00-10:00:00'),\n",
       "  ('Monday', '02:00:00-10:00:00'),\n",
       "  ('Thursday', '02:00:00-10:00:00'),\n",
       "  ('Tuesday', '02:00:00-10:00:00'),\n",
       "  ('Wednesday', '02:00:00-10:00:00'),\n",
       "  'Manager_#0']]"
      ]
     },
     "execution_count": 3,
     "metadata": {},
     "output_type": "execute_result"
    }
   ],
   "source": [
    "dateCols = ['Timestamp']\n",
    "# Read CSV\n",
    "df = pd.read_csv(\"default.csv\", parse_dates=dateCols)\n",
    "# Eliminate Assign Events\n",
    "df = df[df.EventType != 'assign']\n",
    "# Add weekday to DataFrame\n",
    "df['Day'] = df['Timestamp'].dt.weekday_name\n",
    "# Add corresponding hour to DataFrame\n",
    "df['Hour'] = df['Timestamp'].dt.hour\n",
    "# Do resource by resource\n",
    "resources = list(df['Resource'].unique())\n",
    "backup_df = df\n",
    "# Where output will be storaged\n",
    "schedule_list = []\n",
    "for resource in resources:\n",
    "    day_list=[]\n",
    "    starting_hours = []\n",
    "    completing_hours = []\n",
    "    hour_ranges = []\n",
    "    df = backup_df[backup_df['Resource']==resource]\n",
    "    min_list = np.array(df.groupby(['EventType','Resource','Day']).min()['Hour'].to_list())\n",
    "    max_list = np.array(df.groupby(['EventType','Resource','Day']).max()['Hour'].to_list())\n",
    "    grouped = df.groupby(['Resource','Day'])\n",
    "    for name,group in grouped:\n",
    "        day_list.append(name[1])\n",
    "    for hour in min_list:\n",
    "        r = int_to_hour([hour.item()],['hour'])\n",
    "        starting_hours.append(r)\n",
    "    for hour in max_list:\n",
    "        r = int_to_hour([hour.item()],['hour'])\n",
    "        completing_hours.append(r)\n",
    "    ranges = list(zip(starting_hours, completing_hours))\n",
    "    for tup in ranges:\n",
    "        s,f = tup\n",
    "        val = s + '-' + f\n",
    "        hour_ranges.append(val)\n",
    "    schedules = list(zip(day_list,hour_ranges)) + [resource]\n",
    "    schedule_list.append(schedules)\n",
    "schedule_list"
   ]
  }
 ],
 "metadata": {
  "kernelspec": {
   "display_name": "Python 3",
   "language": "python",
   "name": "python3"
  },
  "language_info": {
   "codemirror_mode": {
    "name": "ipython",
    "version": 3
   },
   "file_extension": ".py",
   "mimetype": "text/x-python",
   "name": "python",
   "nbconvert_exporter": "python",
   "pygments_lexer": "ipython3",
   "version": "3.7.4"
  }
 },
 "nbformat": 4,
 "nbformat_minor": 2
}
